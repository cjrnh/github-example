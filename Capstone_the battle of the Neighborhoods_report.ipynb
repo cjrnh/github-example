{
 "cells": [
  {
   "cell_type": "markdown",
   "metadata": {},
   "source": [
    "# Capstone Project - The Battle of the Neighborhoods\n",
    "### -- Osaka vs Manhattan--"
   ]
  },
  {
   "cell_type": "markdown",
   "metadata": {},
   "source": [
    "## Purpose\n",
    "This document provides the details of my final peer reviewed assignment for the IBM Data Science Professional Certificate  program –Coursera Capstone.  In this project, it is aimed to compare the neighborhoods of Osaka and Manhattan and determine how similar or dissimilar they are.\n"
   ]
  },
  {
   "cell_type": "markdown",
   "metadata": {},
   "source": [
    "## Table of contents\n",
    "* [Introduction: Business Problem](#introduction)\n",
    "* [Data Acquisition](#data)\n",
    "* [Methodology](#methodology)\n",
    "* [Results and Discussion](#results)\n",
    "* [Conclusion](#conclusion)"
   ]
  },
  {
   "cell_type": "markdown",
   "metadata": {},
   "source": [
    "## Introduction: Business Problem <a name=\"introduction\"></a>"
   ]
  },
  {
   "cell_type": "markdown",
   "metadata": {},
   "source": [
    " **Osaka** is one of the most famous cities in Japan.  My friend is moving from **Manhattan**, NY to **Osaka** for a career change. \n",
    " \n",
    " The topic assumed here is to help her to find a place living in Osaka where the environment is similar to her previous home in Manhattan. In this project, I will cluster the venues of all neighborhoods in both cities and make a comparision to understand the similarity and dissimilarity of them. I will also collect and provide a data driven recommendation about where to eat or visit in Osaka."
   ]
  },
  {
   "cell_type": "markdown",
   "metadata": {},
   "source": [
    "## Data Acquisition <a name=\"data\"></a>"
   ]
  },
  {
   "cell_type": "markdown",
   "metadata": {},
   "source": [
    "#### Osaka neighborhoods names\n",
    "* Osaka districts names will be retrieved from [Wikipedia](https://en.wikipedia.org/wiki/Osaka) \n",
    "\n",
    "#### Osaka , Manhattan and  their neighborhoods location\n",
    "* Data coordinates of Osaka and Manhattan's neighborhood will be retrieved using google API.\n",
    "\n",
    "#### Osaka top Venue recommendations \n",
    "(Foursquare Category:  https://developer.foursquare.com/docs/resources/categories)\n",
    "* Osaka and Mahattan's neighborhoods are explored using Foursquare API . The following information are retrieved. \n",
    "  \n",
    "  - Venue ID\n",
    "  - Venue name\n",
    "  - Coordinates: Latitude and Longitude\n",
    "  - Category names \n",
    "  - Venue ratings (Due to the Foursquare access limitation,  only 2 types of ratings were retrieved in this project)\n"
   ]
  },
  {
   "cell_type": "markdown",
   "metadata": {},
   "source": [
    "## Methodology and Analysis <a name=\"methodology\"></a>"
   ]
  },
  {
   "cell_type": "markdown",
   "metadata": {},
   "source": [
    "1. The website information will be retrieved using **Beutifulsoup tool**.\n",
    "\n",
    "2. Using **Pandas** for proper cleaning to create a dataframe.\n",
    "\n",
    "3. The locations are marked upon the map to obtain the co-ordinates of the places via the **Geocoding API** from Google.\n",
    "\n",
    "4. **K-means clustering** algorithm will be use to analyze the similarity or dissimilarity between two cities. \n",
    "\n",
    "5. The top 5 common venues in each neighborhoods will be also analized and a recommended Osaka profile will be created."
   ]
  },
  {
   "cell_type": "markdown",
   "metadata": {},
   "source": [
    "## Results and Discussion <a name=\"results\"></a> "
   ]
  },
  {
   "cell_type": "markdown",
   "metadata": {},
   "source": [
    "1. After both Osaka and Manhattan places information were merged together,  the cities were categorized again. I got a very interesting result.  \n",
    "Cluster classification both were changed for each city. Compared to Osaka neighborhoods, Manhattan neighborhoods showed much more similarity (clustered to one category- red circles)\n",
    "In Osaka neighborhoods, Tennoji-ku and Sumiyoshi-ku showed the most similarity to Manhattan. Other three neighborhoods  which were in the same cluster with Tennoji-ku and Sumiyoshi-ku in the previous slide  were categorized differently at this time.\n",
    "2. The best three restaurants are all located in Abeno-Ku.\n",
    "(I researches several categories (such as food, ART, museum, cinema et al.) using Foursquare API in order to make a recommendation list. Due to the limitation of accesses to Foursquare API, I only showed the food restaurants results here. )\n",
    "3. The best three restaurants are all located in Abeno-Ku.\n",
    "(I researches several categories (such as food, ART, museum, cinema et al.) using Foursquare API in order to make a recommendation list. Due to the limitation of accesses to Foursquare API, I only showed the food restaurants results here. )"
   ]
  },
  {
   "cell_type": "markdown",
   "metadata": {},
   "source": [
    "## Conclusion <a name=\"conclusion\"></a> "
   ]
  },
  {
   "cell_type": "markdown",
   "metadata": {},
   "source": [
    "The stakeholder's problem is resolved. This project was aimed to help my friend to find the best place which neighborhood is similar to where she lived before. Compared to Manhattan, Osaka city showed much more diversities of its neighborhoods. Tennōji-ku and Sumiyoshi-ku in Osaka showed the most similarity with Manhattan. \n",
    "The data showed that Abeno-ku owned the best 3 food restaurants in Osaka. Sumiyoshi-ku ranked in number 4 neighborhoods with Japanese restaurants numbers. As the ranking algorithms was developed, I can quickly ranked every category as I want to recommend to my friend. "
   ]
  }
 ],
 "metadata": {
  "kernelspec": {
   "display_name": "Python 3",
   "language": "python",
   "name": "python3"
  },
  "language_info": {
   "codemirror_mode": {
    "name": "ipython",
    "version": 3
   },
   "file_extension": ".py",
   "mimetype": "text/x-python",
   "name": "python",
   "nbconvert_exporter": "python",
   "pygments_lexer": "ipython3",
   "version": "3.7.1"
  }
 },
 "nbformat": 4,
 "nbformat_minor": 2
}
